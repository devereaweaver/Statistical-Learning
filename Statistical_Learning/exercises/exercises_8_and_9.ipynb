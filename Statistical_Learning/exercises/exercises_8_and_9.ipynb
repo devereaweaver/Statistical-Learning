{
 "cells": [
  {
   "cell_type": "markdown",
   "metadata": {},
   "source": [
    "# Exercise 8 - College\n",
    "\n",
    "(a) Load the data using Python.\n"
   ]
  },
  {
   "cell_type": "code",
   "execution_count": null,
   "metadata": {},
   "outputs": [],
   "source": [
    "import pandas as pd\n",
    "college = pd.read_csv('../Data/College.csv')\n",
    "college.info()"
   ]
  },
  {
   "cell_type": "code",
   "execution_count": null,
   "metadata": {},
   "outputs": [],
   "source": [
    "college.head()"
   ]
  },
  {
   "cell_type": "markdown",
   "metadata": {},
   "source": [
    "Note: At some point we might consider changing the index from the default monotonically increasing set of integers to something more meaningful, such\n",
    "as the college name. \n",
    "\n",
    "(b) Try the commands in the text on the college dataframe and then look at each resulting dataframe."
   ]
  },
  {
   "cell_type": "code",
   "execution_count": null,
   "metadata": {},
   "outputs": [],
   "source": [
    "# reimport data into a different dataframe and specify the column to index by\n",
    "college2 = pd.read_csv('../Data/College.csv', index_col=0)\n",
    "college2.info()"
   ]
  },
  {
   "cell_type": "markdown",
   "metadata": {},
   "source": [
    "Observe the is one less colum in the output above."
   ]
  },
  {
   "cell_type": "code",
   "execution_count": null,
   "metadata": {},
   "outputs": [],
   "source": [
    "# now indexed with the college name, which makes more sense\n",
    "college2.head()"
   ]
  },
  {
   "cell_type": "code",
   "execution_count": null,
   "metadata": {},
   "outputs": [],
   "source": [
    "# confirm that we have no repeat college names\n",
    "college2.index.nunique()"
   ]
  },
  {
   "cell_type": "code",
   "execution_count": null,
   "metadata": {},
   "outputs": [],
   "source": [
    "# create a similar dataset using the original college dataset that's poorly indexed\n",
    "# by using a dict to rename the key column to the value along the column axis\n",
    "college = college.rename({'Unnamed: 0': 'College'}, axis=1)\n",
    "college.head()"
   ]
  },
  {
   "cell_type": "code",
   "execution_count": null,
   "metadata": {},
   "outputs": [],
   "source": [
    "# now, let's change the index of college3 to be the newly renamed college column\n",
    "college = college.set_index('College')\n",
    "college.head()"
   ]
  },
  {
   "cell_type": "markdown",
   "metadata": {},
   "source": [
    "Notice the subtle difference:\n",
    "* In `college2`, we imported the data and specified which column to use as the index. \n",
    "This resulted in our observations being indexed by column, but the index column itself has no name.\n",
    "* In `college`, we simply renamed a column and then used that as a named index. \n",
    "So, the dataframe is indexed by college name like `college`; however, the index column is named `College`.\n",
    "\n",
    "Now, what practical difference does this have?...I'm not entirely sure.\n",
    "Maybe we can somehow refer to the named index for whatever reason later. \n",
    "\n",
    "(c) Get a numerical summary of the variables in the dataset."
   ]
  },
  {
   "cell_type": "code",
   "execution_count": null,
   "metadata": {},
   "outputs": [],
   "source": [
    "# get 8 number summary\n",
    "college.describe()"
   ]
  },
  {
   "cell_type": "markdown",
   "metadata": {},
   "source": [
    "(d) Produce a scatterplot matrix of the `Enroll`, `To10perc`, and `Apps`.\n",
    "\n",
    "Note: We're going to use `seaborn` for this.\n",
    "Specifically, we'll use the `pairplot()` method."
   ]
  },
  {
   "cell_type": "code",
   "execution_count": null,
   "metadata": {},
   "outputs": [],
   "source": [
    "import seaborn as sns\n",
    "fig = sns.pairplot(data=college, vars=['Enroll','Top10perc','Apps'])\n",
    "fig.figure.suptitle('Pairwise Relationships for Enrollment, Top 10%, and Applications', y=1.05)"
   ]
  },
  {
   "cell_type": "markdown",
   "metadata": {},
   "source": [
    "(e) Produce side-by-side boxplots for `Outstate` vs. `Private`.\n",
    "\n",
    "Again, we're going to use `seaborn`."
   ]
  },
  {
   "cell_type": "code",
   "execution_count": null,
   "metadata": {},
   "outputs": [],
   "source": [
    "# let's put Private on the x-axis against Outstate\n",
    "import matplotlib.pyplot as plt\n",
    "box, ax = plt.subplots()\n",
    "sns.boxplot(data=college, x='Private', y='Outstate', ax=ax)\n",
    "ax.set_title('Box Plot of Out of State Tuition by Private School', y=1.05)\n",
    "ax.set_xlabel('Private School')\n",
    "ax.set_ylabel('Out of State Tuition')"
   ]
  },
  {
   "cell_type": "markdown",
   "metadata": {},
   "source": [
    "(f) Create a new qualitative variable based on whether or not the proportion of students\n",
    "coming from the top 10% of their high school class exceeds 50%."
   ]
  },
  {
   "cell_type": "code",
   "execution_count": null,
   "metadata": {},
   "outputs": [],
   "source": [
    "# create bins with the cut() function\n",
    "college['Elite'] = pd.cut(\n",
    "    college['Top10perc'],    # use data in this column for bins\n",
    "    [0, 0.5, 1],    # create bins: (0,.5], (.5,1]?...\n",
    "    labels=['No', 'Yes']\n",
    ")\n",
    "\n",
    "college['Top10.Ratio'] = college['Top10perc'] / college['Enroll']\n",
    "college.head()"
   ]
  },
  {
   "cell_type": "markdown",
   "metadata": {},
   "source": [
    "Umm...that example doesn't appear to make any sense. Moving on...\n",
    "\n",
    "---\n",
    "\n",
    "## Exercise 9 - Auto\n",
    "\n",
    "(a) Which of the predictors are quantitative and which are qualitative?"
   ]
  },
  {
   "cell_type": "code",
   "execution_count": null,
   "metadata": {},
   "outputs": [],
   "source": [
    "# are there any missing values?...\n",
    "auto = pd.read_csv('../Data/Auto.csv')\n",
    "auto.info()\n"
   ]
  },
  {
   "cell_type": "markdown",
   "metadata": {},
   "source": [
    "Upon initial inspection it looks like the horsepower variable may have some issues with missing values since \n",
    "the data type is object when it should likely be a numerical value. Let's check."
   ]
  },
  {
   "cell_type": "code",
   "execution_count": null,
   "metadata": {},
   "outputs": [],
   "source": [
    "import numpy as np\n",
    "np.unique(auto['horsepower'].values)"
   ]
  },
  {
   "cell_type": "markdown",
   "metadata": {},
   "source": []
  },
  {
   "cell_type": "code",
   "execution_count": null,
   "metadata": {},
   "outputs": [],
   "source": [
    "auto = pd.read_csv('../Data/Auto.csv', na_values=['?'])\n",
    "auto.info()"
   ]
  },
  {
   "cell_type": "markdown",
   "metadata": {},
   "source": [
    "This looks like it makes more sense. Then, all the variables with the exception of name are quantitative. \n",
    "The only other possible one may be origin, but without more information about this dataset, it's hard to tell.\n",
    "\n",
    "It looks like it may be because there are only three potential values that could act as encoded variables."
   ]
  },
  {
   "cell_type": "code",
   "execution_count": null,
   "metadata": {},
   "outputs": [],
   "source": [
    "auto['origin'].value_counts()"
   ]
  },
  {
   "cell_type": "markdown",
   "metadata": {},
   "source": [
    "(b) What is the range of each quantitative predictor?\n",
    "(c) what is the mean and standard deviation of each quantitative predictor?\n",
    "\n",
    "You could specifically target each of the quantitative variables' min and max; however,\n",
    "with the small number of predictors, I think it's sufficient to just get an entire numerical summary."
   ]
  },
  {
   "cell_type": "code",
   "execution_count": null,
   "metadata": {},
   "outputs": [],
   "source": [
    "auto.describe()"
   ]
  },
  {
   "cell_type": "markdown",
   "metadata": {},
   "source": [
    "(d) Remove the 10th-85th observations and check again."
   ]
  },
  {
   "cell_type": "code",
   "execution_count": null,
   "metadata": {},
   "outputs": [],
   "source": [
    "auto_subset = auto.loc[lambda df: (df.index < 10) | (df.index > 85)]\n",
    "auto_subset"
   ]
  },
  {
   "cell_type": "code",
   "execution_count": null,
   "metadata": {},
   "outputs": [],
   "source": [
    "auto_subset.describe()"
   ]
  },
  {
   "cell_type": "markdown",
   "metadata": {},
   "source": [
    "(e) Investigate the predictors graphically using scatterplots or tools of your choice. "
   ]
  },
  {
   "cell_type": "code",
   "execution_count": null,
   "metadata": {},
   "outputs": [],
   "source": [
    "# let's create a scatterplot with subplots all sharing the same x-axis \n",
    "fig, axs = plt.subplots(2,3)\n",
    "\n",
    "axs[0,0].set_title('MPG vs. Cylinders')\n",
    "axs[0,1].set_title('MPG vs. Displacement')\n",
    "axs[0,2].set_title('MPG vs. Horsepower')\n",
    "axs[1,0].set_title('MPG vs. Weight')\n",
    "axs[1,1].set_title('MPG vs. Acceleration')\n",
    "axs[1,2].set_title('MPG vs. Year')\n",
    "\n",
    "axs[0,0].scatter(y=auto['mpg'], x=auto['cylinders'])\n",
    "axs[0,1].scatter(y=auto['mpg'], x=auto['displacement'])\n",
    "axs[0,2].scatter(y=auto['mpg'], x=auto['horsepower'])\n",
    "axs[1,0].scatter(y=auto['mpg'], x=auto['weight'])\n",
    "axs[1,1].scatter(y=auto['mpg'], x=auto['acceleration'])\n",
    "axs[1,2].scatter(y=auto['mpg'], x=auto['year'])\n",
    "\n",
    "axs[0,0].set_ylabel('MPG')\n",
    "axs[0,1].set_ylabel('MPG')\n",
    "axs[0,2].set_ylabel('MPG')\n",
    "axs[1,0].set_ylabel('MPG')\n",
    "axs[1,1].set_ylabel('MPG')\n",
    "axs[1,2].set_ylabel('MPG')\n",
    "\n",
    "axs[0,0].set_xlabel('Cylinders')\n",
    "axs[0,1].set_xlabel('Displacement')\n",
    "axs[0,2].set_xlabel('Horsepower')\n",
    "axs[1,0].set_xlabel('Weight')\n",
    "axs[1,1].set_xlabel('Acceleration')\n",
    "axs[1,2].set_xlabel('Year')\n",
    "\n",
    "fig.suptitle('Quantitative Auto Variables Relationships with MPG')\n",
    "fig.set_tight_layout(True)\n",
    "plt.show();"
   ]
  },
  {
   "cell_type": "markdown",
   "metadata": {},
   "source": [
    "Just a brief remark on plot so that I can move on, basically the plots communicate what we intuitively would think: \n",
    "a larger engine displacement, a heavier vehicle, or more horsepower generally results in a decrease in MPG. \n",
    "This makes sense that they would have a negative relationship with MPG.\n",
    "\n",
    "After just a brief look at the mpg vs. acceleration graphic, there doesn't appear to be much of a linear relationship\n",
    "between the too. Perhaps there is but not enough to really discern from the graphic above. It just appears as a cloud.\n",
    "\n",
    "The cylinders graph also makes sense as larger cylinders typically means larger engines and thus lower mileage to some degree.\n",
    "The year graph also seems to make a bit of intuitive sense in that fuel consumption on average tends to increase as vehicle\n",
    "engineers build them to be more fuel efficient. \n",
    "\n",
    "(f) Do your plots suggest that any of the other variables might be useful in predicting mpg?\n",
    "\n",
    "Just based on the plots, I'd assume off the bat, weight, displacement and horsepower would be most likely to be useful in \n",
    "predicting mpg."
   ]
  }
 ],
 "metadata": {
  "kernelspec": {
   "display_name": "statistical-learning",
   "language": "python",
   "name": "python3"
  },
  "language_info": {
   "codemirror_mode": {
    "name": "ipython",
    "version": 3
   },
   "file_extension": ".py",
   "mimetype": "text/x-python",
   "name": "python",
   "nbconvert_exporter": "python",
   "pygments_lexer": "ipython3",
   "version": "3.11.9"
  }
 },
 "nbformat": 4,
 "nbformat_minor": 2
}
